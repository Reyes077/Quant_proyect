{
 "cells": [
  {
   "cell_type": "markdown",
   "id": "8a41b0b2",
   "metadata": {},
   "source": [
    "# Greeks Coberture for options\n",
    "* The objetive of this proyect is make a coberture \n",
    "\n",
    "Using the finance option **AMAZON**\n"
   ]
  },
  {
   "cell_type": "code",
   "execution_count": 1,
   "id": "8babb3ec",
   "metadata": {},
   "outputs": [],
   "source": [
    "## Import Packages\n",
    "import pandas as pd\n",
    "import numpy as np"
   ]
  },
  {
   "cell_type": "markdown",
   "id": "057188c6",
   "metadata": {},
   "source": [
    "**MAKING an data analysis**"
   ]
  },
  {
   "cell_type": "code",
   "execution_count": 2,
   "id": "ef6b1c6b",
   "metadata": {},
   "outputs": [],
   "source": [
    "## Load data \n",
    "data= pd.read_excel('Proyecto Griegas .xlsx')"
   ]
  },
  {
   "cell_type": "code",
   "execution_count": 3,
   "id": "0649080e",
   "metadata": {},
   "outputs": [
    {
     "data": {
      "text/html": [
       "<div>\n",
       "<style scoped>\n",
       "    .dataframe tbody tr th:only-of-type {\n",
       "        vertical-align: middle;\n",
       "    }\n",
       "\n",
       "    .dataframe tbody tr th {\n",
       "        vertical-align: top;\n",
       "    }\n",
       "\n",
       "    .dataframe thead th {\n",
       "        text-align: right;\n",
       "    }\n",
       "</style>\n",
       "<table border=\"1\" class=\"dataframe\">\n",
       "  <thead>\n",
       "    <tr style=\"text-align: right;\">\n",
       "      <th></th>\n",
       "      <th>Strike</th>\n",
       "      <th>Last Price</th>\n",
       "      <th>Bid</th>\n",
       "      <th>Ask</th>\n",
       "      <th>Change</th>\n",
       "      <th>Implied Volatility</th>\n",
       "      <th>Stock price</th>\n",
       "    </tr>\n",
       "  </thead>\n",
       "  <tbody>\n",
       "    <tr>\n",
       "      <th>count</th>\n",
       "      <td>6988.000000</td>\n",
       "      <td>6988.000000</td>\n",
       "      <td>6988.000000</td>\n",
       "      <td>6988.000000</td>\n",
       "      <td>6988.000000</td>\n",
       "      <td>6988.000000</td>\n",
       "      <td>6988.000000</td>\n",
       "    </tr>\n",
       "    <tr>\n",
       "      <th>mean</th>\n",
       "      <td>1535.296222</td>\n",
       "      <td>309.382951</td>\n",
       "      <td>296.780019</td>\n",
       "      <td>303.304555</td>\n",
       "      <td>2.048261</td>\n",
       "      <td>1.112457</td>\n",
       "      <td>100.371214</td>\n",
       "    </tr>\n",
       "    <tr>\n",
       "      <th>std</th>\n",
       "      <td>1613.390977</td>\n",
       "      <td>530.210910</td>\n",
       "      <td>509.789755</td>\n",
       "      <td>515.094628</td>\n",
       "      <td>47.149631</td>\n",
       "      <td>2.249404</td>\n",
       "      <td>4.438275</td>\n",
       "    </tr>\n",
       "    <tr>\n",
       "      <th>min</th>\n",
       "      <td>45.000000</td>\n",
       "      <td>0.010000</td>\n",
       "      <td>0.000000</td>\n",
       "      <td>0.000000</td>\n",
       "      <td>-272.700000</td>\n",
       "      <td>0.000000</td>\n",
       "      <td>92.130000</td>\n",
       "    </tr>\n",
       "    <tr>\n",
       "      <th>25%</th>\n",
       "      <td>161.000000</td>\n",
       "      <td>5.242500</td>\n",
       "      <td>4.375000</td>\n",
       "      <td>4.537500</td>\n",
       "      <td>0.000000</td>\n",
       "      <td>0.000000</td>\n",
       "      <td>98.150000</td>\n",
       "    </tr>\n",
       "    <tr>\n",
       "      <th>50%</th>\n",
       "      <td>245.000000</td>\n",
       "      <td>65.600000</td>\n",
       "      <td>67.000000</td>\n",
       "      <td>71.425000</td>\n",
       "      <td>0.000000</td>\n",
       "      <td>0.439700</td>\n",
       "      <td>102.570000</td>\n",
       "    </tr>\n",
       "    <tr>\n",
       "      <th>75%</th>\n",
       "      <td>3260.000000</td>\n",
       "      <td>234.000000</td>\n",
       "      <td>181.550000</td>\n",
       "      <td>193.250000</td>\n",
       "      <td>0.000000</td>\n",
       "      <td>0.673125</td>\n",
       "      <td>102.790000</td>\n",
       "    </tr>\n",
       "    <tr>\n",
       "      <th>max</th>\n",
       "      <td>5500.000000</td>\n",
       "      <td>3256.610000</td>\n",
       "      <td>3087.500000</td>\n",
       "      <td>3106.500000</td>\n",
       "      <td>673.730000</td>\n",
       "      <td>17.312500</td>\n",
       "      <td>112.910000</td>\n",
       "    </tr>\n",
       "  </tbody>\n",
       "</table>\n",
       "</div>"
      ],
      "text/plain": [
       "            Strike   Last Price          Bid          Ask       Change  \\\n",
       "count  6988.000000  6988.000000  6988.000000  6988.000000  6988.000000   \n",
       "mean   1535.296222   309.382951   296.780019   303.304555     2.048261   \n",
       "std    1613.390977   530.210910   509.789755   515.094628    47.149631   \n",
       "min      45.000000     0.010000     0.000000     0.000000  -272.700000   \n",
       "25%     161.000000     5.242500     4.375000     4.537500     0.000000   \n",
       "50%     245.000000    65.600000    67.000000    71.425000     0.000000   \n",
       "75%    3260.000000   234.000000   181.550000   193.250000     0.000000   \n",
       "max    5500.000000  3256.610000  3087.500000  3106.500000   673.730000   \n",
       "\n",
       "       Implied Volatility  Stock price  \n",
       "count         6988.000000  6988.000000  \n",
       "mean             1.112457   100.371214  \n",
       "std              2.249404     4.438275  \n",
       "min              0.000000    92.130000  \n",
       "25%              0.000000    98.150000  \n",
       "50%              0.439700   102.570000  \n",
       "75%              0.673125   102.790000  \n",
       "max             17.312500   112.910000  "
      ]
     },
     "execution_count": 3,
     "metadata": {},
     "output_type": "execute_result"
    }
   ],
   "source": [
    "data.describe()"
   ]
  },
  {
   "cell_type": "markdown",
   "id": "97cc8067",
   "metadata": {},
   "source": [
    "**EDA**\n",
    "> Removing Variables that not need \n",
    "\n",
    "* we need only the adj close in Bid y Ask, and stock price "
   ]
  },
  {
   "cell_type": "code",
   "execution_count": 4,
   "id": "c71da6d8",
   "metadata": {},
   "outputs": [
    {
     "name": "stderr",
     "output_type": "stream",
     "text": [
      "<ipython-input-4-5a4c3c3fe163>:2: SettingWithCopyWarning: \n",
      "A value is trying to be set on a copy of a slice from a DataFrame.\n",
      "Try using .loc[row_indexer,col_indexer] = value instead\n",
      "\n",
      "See the caveats in the documentation: https://pandas.pydata.org/pandas-docs/stable/user_guide/indexing.html#returning-a-view-versus-a-copy\n",
      "  df['Adj Close']=df[['Bid','Ask']].mean(axis=1)\n",
      "<ipython-input-4-5a4c3c3fe163>:3: SettingWithCopyWarning: \n",
      "A value is trying to be set on a copy of a slice from a DataFrame.\n",
      "Try using .loc[row_indexer,col_indexer] = value instead\n",
      "\n",
      "See the caveats in the documentation: https://pandas.pydata.org/pandas-docs/stable/user_guide/indexing.html#returning-a-view-versus-a-copy\n",
      "  df['Last Trade Date']=df['Last Trade Date'].astype(str).str[:10]\n",
      "<ipython-input-4-5a4c3c3fe163>:4: SettingWithCopyWarning: \n",
      "A value is trying to be set on a copy of a slice from a DataFrame.\n",
      "Try using .loc[row_indexer,col_indexer] = value instead\n",
      "\n",
      "See the caveats in the documentation: https://pandas.pydata.org/pandas-docs/stable/user_guide/indexing.html#returning-a-view-versus-a-copy\n",
      "  df['Last Trade Date']=df['Last Trade Date'].apply(lambda x: pd.to_datetime(x,format='%Y/%m/%d'))\n"
     ]
    }
   ],
   "source": [
    "df=data[['Last Trade Date','Strike','Bid', 'Ask','Stock price']]\n",
    "df['Adj Close']=df[['Bid','Ask']].mean(axis=1)\n",
    "df['Last Trade Date']=df['Last Trade Date'].astype(str).str[:10]\n",
    "df['Last Trade Date']=df['Last Trade Date'].apply(lambda x: pd.to_datetime(x,format='%Y/%m/%d'))\n",
    "df.set_index('Last Trade Date',inplace=True)"
   ]
  },
  {
   "cell_type": "markdown",
   "id": "c60b1d1b",
   "metadata": {},
   "source": [
    "## Definiremos nuestra r basandonos en la TIE \n",
    "* Tomando datos historicos del año pasado **por BANXICO**\n"
   ]
  },
  {
   "cell_type": "code",
   "execution_count": 5,
   "id": "e0a1f94b",
   "metadata": {
    "scrolled": true
   },
   "outputs": [
    {
     "name": "stdout",
     "output_type": "stream",
     "text": [
      "La TIE promedio en el ultimo año es: 9.35 %\n"
     ]
    }
   ],
   "source": [
    "data_TIE= pd.read_excel('Proyecto Griegas .xlsx','TIE',)\n",
    "data_TIE=data_TIE.iloc[16:,:2]\n",
    "data_TIE.columns=['Fecha','TIE']\n",
    "TIE=round(data_TIE['TIE'].mean(),2)\n",
    "print('La TIE promedio en el ultimo año es:',TIE,'%')"
   ]
  },
  {
   "cell_type": "markdown",
   "id": "aeea3343",
   "metadata": {},
   "source": [
    "## Definimos los parametros a trabajar\n",
    "* Necesitamos los datos historicos de 1 año atras sobre la accion\n",
    "\n",
    "**Objetivo:**\n",
    "> * Obtener mu\n",
    ">* Obtener Sigma"
   ]
  },
  {
   "cell_type": "code",
   "execution_count": 6,
   "id": "338ec818",
   "metadata": {},
   "outputs": [],
   "source": [
    "##Chargin data\n",
    "Historical_Data= pd.read_excel('Proyecto Griegas .xlsx','Parámetros')\n",
    "Historical_Data=Historical_Data.iloc[2:,4:6].copy()"
   ]
  },
  {
   "cell_type": "code",
   "execution_count": 7,
   "id": "f52214cf",
   "metadata": {},
   "outputs": [],
   "source": [
    "##trating the data\n",
    "Historical_Data.columns=('Fecha','St')\n",
    "Historical_Data['St']=Historical_Data['St'].astype(float)\n",
    "##Log return\n",
    "Historical_Data['ln(St)']=np.log(Historical_Data['St'].astype(float))\n",
    "Historical_Data[['St','ln(St)']]=Historical_Data[['St','ln(St)']].round(2)\n",
    "Historical_Data['Fecha']=Historical_Data['Fecha'].apply(lambda x: pd.to_datetime(x,format='%Y/%m/%d'))\n",
    "Historical_Data.set_index('Fecha',inplace=True)"
   ]
  },
  {
   "cell_type": "code",
   "execution_count": 8,
   "id": "406c4d89",
   "metadata": {},
   "outputs": [],
   "source": [
    "Historical_Data.sort_index(ascending=False,inplace=True)"
   ]
  },
  {
   "cell_type": "code",
   "execution_count": 9,
   "id": "629dd209",
   "metadata": {},
   "outputs": [],
   "source": [
    "Historical_Data['%_Change']=round(Historical_Data['St'].pct_change(),5)\n",
    "Historical_Data['Log_Return']=round(np.log(Historical_Data.St) - np.log(Historical_Data.St.shift(1)),5)"
   ]
  },
  {
   "cell_type": "code",
   "execution_count": 10,
   "id": "22ed4208",
   "metadata": {
    "scrolled": false
   },
   "outputs": [
    {
     "data": {
      "text/html": [
       "<div>\n",
       "<style scoped>\n",
       "    .dataframe tbody tr th:only-of-type {\n",
       "        vertical-align: middle;\n",
       "    }\n",
       "\n",
       "    .dataframe tbody tr th {\n",
       "        vertical-align: top;\n",
       "    }\n",
       "\n",
       "    .dataframe thead th {\n",
       "        text-align: right;\n",
       "    }\n",
       "</style>\n",
       "<table border=\"1\" class=\"dataframe\">\n",
       "  <thead>\n",
       "    <tr style=\"text-align: right;\">\n",
       "      <th></th>\n",
       "      <th>St</th>\n",
       "      <th>ln(St)</th>\n",
       "      <th>%_Change</th>\n",
       "      <th>Log_Return</th>\n",
       "    </tr>\n",
       "    <tr>\n",
       "      <th>Fecha</th>\n",
       "      <th></th>\n",
       "      <th></th>\n",
       "      <th></th>\n",
       "      <th></th>\n",
       "    </tr>\n",
       "  </thead>\n",
       "  <tbody>\n",
       "    <tr>\n",
       "      <th>2022-05-09</th>\n",
       "      <td>108.79</td>\n",
       "      <td>4.69</td>\n",
       "      <td>-0.00064</td>\n",
       "      <td>-0.00064</td>\n",
       "    </tr>\n",
       "    <tr>\n",
       "      <th>2022-05-10</th>\n",
       "      <td>108.86</td>\n",
       "      <td>4.69</td>\n",
       "      <td>0.03312</td>\n",
       "      <td>0.03258</td>\n",
       "    </tr>\n",
       "    <tr>\n",
       "      <th>2022-05-11</th>\n",
       "      <td>105.37</td>\n",
       "      <td>4.66</td>\n",
       "      <td>-0.01459</td>\n",
       "      <td>-0.01470</td>\n",
       "    </tr>\n",
       "    <tr>\n",
       "      <th>2022-05-12</th>\n",
       "      <td>106.93</td>\n",
       "      <td>4.67</td>\n",
       "      <td>-0.05422</td>\n",
       "      <td>-0.05574</td>\n",
       "    </tr>\n",
       "    <tr>\n",
       "      <th>2022-05-13</th>\n",
       "      <td>113.06</td>\n",
       "      <td>4.73</td>\n",
       "      <td>0.02031</td>\n",
       "      <td>0.02010</td>\n",
       "    </tr>\n",
       "  </tbody>\n",
       "</table>\n",
       "</div>"
      ],
      "text/plain": [
       "                St  ln(St)  %_Change  Log_Return\n",
       "Fecha                                           \n",
       "2022-05-09  108.79    4.69  -0.00064    -0.00064\n",
       "2022-05-10  108.86    4.69   0.03312     0.03258\n",
       "2022-05-11  105.37    4.66  -0.01459    -0.01470\n",
       "2022-05-12  106.93    4.67  -0.05422    -0.05574\n",
       "2022-05-13  113.06    4.73   0.02031     0.02010"
      ]
     },
     "execution_count": 10,
     "metadata": {},
     "output_type": "execute_result"
    }
   ],
   "source": [
    "Historical_Data.dropna(inplace=True)\n",
    "Historical_Data.sort_index(ascending=True,inplace=True)\n",
    "Historical_Data.head()"
   ]
  },
  {
   "cell_type": "markdown",
   "id": "080d131e",
   "metadata": {},
   "source": [
    "* Encontrando los parametros"
   ]
  },
  {
   "cell_type": "code",
   "execution_count": 11,
   "id": "3b6a5380",
   "metadata": {},
   "outputs": [
    {
     "name": "stdout",
     "output_type": "stream",
     "text": [
      "Nuestros Parámetros son:\n",
      "Tau: 1 \n",
      "mu: 4.67 \n",
      "sigma: 0.02 \n",
      "r: 9.35 \n",
      "K: 90\n"
     ]
    }
   ],
   "source": [
    "Tau,mu,sigma,r,K=[1,\n",
    "                  round(np.mean(Historical_Data['ln(St)']),2),\n",
    "                  round(np.var(Historical_Data['ln(St)']),2),\n",
    "                  round(TIE,2),\n",
    "                  90]\n",
    "print('Nuestros Parámetros son:\\n''Tau:',Tau,'\\nmu:',mu,'\\nsigma:',sigma,'\\nr:',r,'\\nK:',K)"
   ]
  }
 ],
 "metadata": {
  "kernelspec": {
   "display_name": "Python 3",
   "language": "python",
   "name": "python3"
  },
  "language_info": {
   "codemirror_mode": {
    "name": "ipython",
    "version": 3
   },
   "file_extension": ".py",
   "mimetype": "text/x-python",
   "name": "python",
   "nbconvert_exporter": "python",
   "pygments_lexer": "ipython3",
   "version": "3.8.8"
  }
 },
 "nbformat": 4,
 "nbformat_minor": 5
}

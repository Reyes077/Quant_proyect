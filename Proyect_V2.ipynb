{
 "cells": [
  {
   "cell_type": "markdown",
   "id": "8a41b0b2",
   "metadata": {},
   "source": [
    "# Greeks Coberture for options\n",
    "* The objetive of this proyect is make a coberture \n",
    "\n",
    "Using the finance option **AMAZON**\n"
   ]
  },
  {
   "cell_type": "code",
   "execution_count": 1,
   "id": "8babb3ec",
   "metadata": {},
   "outputs": [],
   "source": [
    "## Import Packages\n",
    "import pandas as pd\n",
    "import numpy as np"
   ]
  },
  {
   "cell_type": "markdown",
   "id": "057188c6",
   "metadata": {},
   "source": [
    "**MAKING an data analysis**"
   ]
  },
  {
   "cell_type": "code",
   "execution_count": 2,
   "id": "ef6b1c6b",
   "metadata": {},
   "outputs": [],
   "source": [
    "## Load data \n",
    "data= pd.read_excel('Proyecto Griegas .xlsx')"
   ]
  },
  {
   "cell_type": "code",
   "execution_count": 3,
   "id": "0649080e",
   "metadata": {},
   "outputs": [],
   "source": [
    "#data.describe()"
   ]
  },
  {
   "cell_type": "markdown",
   "id": "97cc8067",
   "metadata": {},
   "source": [
    "**EDA**\n",
    "> Removing Variables that not need \n",
    "\n",
    "* we need only the adj close in Bid y Ask, and stock price "
   ]
  },
  {
   "cell_type": "code",
   "execution_count": 4,
   "id": "c71da6d8",
   "metadata": {},
   "outputs": [
    {
     "name": "stderr",
     "output_type": "stream",
     "text": [
      "<ipython-input-4-5a4c3c3fe163>:2: SettingWithCopyWarning: \n",
      "A value is trying to be set on a copy of a slice from a DataFrame.\n",
      "Try using .loc[row_indexer,col_indexer] = value instead\n",
      "\n",
      "See the caveats in the documentation: https://pandas.pydata.org/pandas-docs/stable/user_guide/indexing.html#returning-a-view-versus-a-copy\n",
      "  df['Adj Close']=df[['Bid','Ask']].mean(axis=1)\n",
      "<ipython-input-4-5a4c3c3fe163>:3: SettingWithCopyWarning: \n",
      "A value is trying to be set on a copy of a slice from a DataFrame.\n",
      "Try using .loc[row_indexer,col_indexer] = value instead\n",
      "\n",
      "See the caveats in the documentation: https://pandas.pydata.org/pandas-docs/stable/user_guide/indexing.html#returning-a-view-versus-a-copy\n",
      "  df['Last Trade Date']=df['Last Trade Date'].astype(str).str[:10]\n",
      "<ipython-input-4-5a4c3c3fe163>:4: SettingWithCopyWarning: \n",
      "A value is trying to be set on a copy of a slice from a DataFrame.\n",
      "Try using .loc[row_indexer,col_indexer] = value instead\n",
      "\n",
      "See the caveats in the documentation: https://pandas.pydata.org/pandas-docs/stable/user_guide/indexing.html#returning-a-view-versus-a-copy\n",
      "  df['Last Trade Date']=df['Last Trade Date'].apply(lambda x: pd.to_datetime(x,format='%Y/%m/%d'))\n"
     ]
    }
   ],
   "source": [
    "df=data[['Last Trade Date','Strike','Bid', 'Ask','Stock price']]\n",
    "df['Adj Close']=df[['Bid','Ask']].mean(axis=1)\n",
    "df['Last Trade Date']=df['Last Trade Date'].astype(str).str[:10]\n",
    "df['Last Trade Date']=df['Last Trade Date'].apply(lambda x: pd.to_datetime(x,format='%Y/%m/%d'))\n",
    "df.set_index('Last Trade Date',inplace=True)"
   ]
  },
  {
   "cell_type": "markdown",
   "id": "c60b1d1b",
   "metadata": {},
   "source": [
    "## Definiremos nuestra r basandonos en la TIE \n",
    "* Tomando datos historicos del año pasado **por BANXICO**\n"
   ]
  },
  {
   "cell_type": "code",
   "execution_count": 5,
   "id": "e0a1f94b",
   "metadata": {
    "scrolled": true
   },
   "outputs": [
    {
     "name": "stdout",
     "output_type": "stream",
     "text": [
      "La TIE promedio en el ultimo año es: 9.35 %\n"
     ]
    }
   ],
   "source": [
    "data_TIE= pd.read_excel('Proyecto Griegas .xlsx','TIE',)\n",
    "data_TIE=data_TIE.iloc[16:,:2]\n",
    "data_TIE.columns=['Fecha','TIE']\n",
    "TIE=round(data_TIE['TIE'].mean(),2)\n",
    "print('La TIE promedio en el ultimo año es:',TIE,'%')"
   ]
  },
  {
   "cell_type": "markdown",
   "id": "aeea3343",
   "metadata": {},
   "source": [
    "## Definimos los parametros a trabajar\n",
    "* Necesitamos los datos historicos de 1 año atras sobre la accion\n",
    "\n",
    "**Objetivo:**\n",
    "> * Obtener mu\n",
    ">* Obtener Sigma"
   ]
  },
  {
   "cell_type": "code",
   "execution_count": 6,
   "id": "338ec818",
   "metadata": {},
   "outputs": [],
   "source": [
    "##Chargin data\n",
    "Historical_Data= pd.read_excel('Proyecto Griegas .xlsx','Parámetros')\n",
    "Historical_Data=Historical_Data.iloc[2:,4:6].copy()\n",
    "##trating the data\n",
    "Historical_Data.columns=('Fecha','St')\n",
    "Historical_Data['St']=Historical_Data['St'].astype(float)\n",
    "##Log return\n",
    "Historical_Data['ln(St)']=np.log(Historical_Data['St'].astype(float))\n",
    "Historical_Data[['St','ln(St)']]=Historical_Data[['St','ln(St)']].round(2)\n",
    "Historical_Data['Fecha']=Historical_Data['Fecha'].apply(lambda x: pd.to_datetime(x,format='%Y/%m/%d'))\n",
    "Historical_Data.set_index('Fecha',inplace=True)\n",
    "Historical_Data.sort_index(ascending=False,inplace=True)\n",
    "##Returns\n",
    "Historical_Data['%_Change']=round(Historical_Data['St'].pct_change(),5)\n",
    "Historical_Data['Log_Return']=round(np.log(Historical_Data.St) - np.log(Historical_Data.St.shift(1)),5)\n",
    "##Eda\n",
    "Historical_Data.dropna(inplace=True)\n",
    "Historical_Data.sort_index(ascending=True,inplace=True)\n",
    "Historical_Data.head()"
   ]
  },
  {
   "cell_type": "markdown",
   "id": "080d131e",
   "metadata": {},
   "source": [
    "* Encontrando los parametros"
   ]
  },
  {
   "cell_type": "code",
   "execution_count": 11,
   "id": "3b6a5380",
   "metadata": {
    "scrolled": false
   },
   "outputs": [
    {
     "name": "stdout",
     "output_type": "stream",
     "text": [
      "Nuestros Parámetros son:\n",
      "Tau: 1 \n",
      "mu: 4.67 \n",
      "sigma: 0.02 \n",
      "r: 0.09 \n",
      "K: 90\n"
     ]
    }
   ],
   "source": [
    "S=Historical_Data['St']\n",
    "Tau,mu,sigma,r,K=[1,\n",
    "                  round(np.mean(Historical_Data['ln(St)']),2),\n",
    "                  round(np.var(Historical_Data['ln(St)']),2),\n",
    "                  round(TIE/100,2),\n",
    "                  90]\n",
    "print('Nuestros Parámetros son:\\n''Tau:',Tau,'\\nmu:',mu,'\\nsigma:',sigma,'\\nr:',r,'\\nK:',K)"
   ]
  },
  {
   "cell_type": "markdown",
   "id": "86224883",
   "metadata": {},
   "source": [
    "# Greeks"
   ]
  },
  {
   "cell_type": "markdown",
   "id": "a5477ba7",
   "metadata": {},
   "source": [
    "**Llamamos una libreria propia para continuar con las griegas**"
   ]
  },
  {
   "cell_type": "code",
   "execution_count": 12,
   "id": "767d99dd",
   "metadata": {},
   "outputs": [],
   "source": [
    "import Libreria_Propia as Lb"
   ]
  },
  {
   "cell_type": "markdown",
   "id": "d95e46d0",
   "metadata": {},
   "source": [
    "* d1"
   ]
  },
  {
   "cell_type": "code",
   "execution_count": 13,
   "id": "f781ef0e",
   "metadata": {},
   "outputs": [],
   "source": [
    "parametros=[S,K,r,sigma,Tau,K] ##Llamamos funcion para poder llamar correctamente las variables\n",
    "d1=Lb.d1(parametros)"
   ]
  },
  {
   "cell_type": "markdown",
   "id": "73d9ae5b",
   "metadata": {},
   "source": [
    "* Delta"
   ]
  },
  {
   "cell_type": "code",
   "execution_count": 14,
   "id": "dc443c60",
   "metadata": {},
   "outputs": [],
   "source": [
    "Delta_Call=Lb.Call_Delta(d1)"
   ]
  },
  {
   "cell_type": "markdown",
   "id": "a659b1e5",
   "metadata": {},
   "source": [
    "* Gamma"
   ]
  },
  {
   "cell_type": "code",
   "execution_count": 15,
   "id": "d0f335b1",
   "metadata": {},
   "outputs": [],
   "source": [
    "Gamma_params=[sigma,S,Tau,d1]\n",
    "Gamma_Call=Lb.Call_Gamma(Gamma_params)"
   ]
  },
  {
   "cell_type": "markdown",
   "id": "0780d64d",
   "metadata": {},
   "source": [
    "* Vega"
   ]
  },
  {
   "cell_type": "code",
   "execution_count": 16,
   "id": "f3aa8dc5",
   "metadata": {
    "scrolled": true
   },
   "outputs": [],
   "source": [
    "Vega_params=[S,Tau,d1]\n",
    "Vega_Call=Lb.Call_Vega(Vega_params)"
   ]
  },
  {
   "cell_type": "markdown",
   "id": "260655b1",
   "metadata": {},
   "source": [
    "## Unimos todo en nuestro df inicial"
   ]
  },
  {
   "cell_type": "code",
   "execution_count": 17,
   "id": "d6e58959",
   "metadata": {},
   "outputs": [
    {
     "data": {
      "text/html": [
       "<div>\n",
       "<style scoped>\n",
       "    .dataframe tbody tr th:only-of-type {\n",
       "        vertical-align: middle;\n",
       "    }\n",
       "\n",
       "    .dataframe tbody tr th {\n",
       "        vertical-align: top;\n",
       "    }\n",
       "\n",
       "    .dataframe thead th {\n",
       "        text-align: right;\n",
       "    }\n",
       "</style>\n",
       "<table border=\"1\" class=\"dataframe\">\n",
       "  <thead>\n",
       "    <tr style=\"text-align: right;\">\n",
       "      <th></th>\n",
       "      <th>St</th>\n",
       "      <th>ln(St)</th>\n",
       "      <th>%_Change</th>\n",
       "      <th>Log_Return</th>\n",
       "      <th>Delta Δ</th>\n",
       "      <th>Gamma Γ</th>\n",
       "      <th>Vega v</th>\n",
       "    </tr>\n",
       "    <tr>\n",
       "      <th>Fecha</th>\n",
       "      <th></th>\n",
       "      <th></th>\n",
       "      <th></th>\n",
       "      <th></th>\n",
       "      <th></th>\n",
       "      <th></th>\n",
       "      <th></th>\n",
       "    </tr>\n",
       "  </thead>\n",
       "  <tbody>\n",
       "    <tr>\n",
       "      <th>2022-05-09</th>\n",
       "      <td>108.79</td>\n",
       "      <td>4.69</td>\n",
       "      <td>-0.00064</td>\n",
       "      <td>-0.00064</td>\n",
       "      <td>1.0</td>\n",
       "      <td>2.296995e-44</td>\n",
       "      <td>1.362881e-41</td>\n",
       "    </tr>\n",
       "    <tr>\n",
       "      <th>2022-05-10</th>\n",
       "      <td>108.86</td>\n",
       "      <td>4.69</td>\n",
       "      <td>0.03312</td>\n",
       "      <td>0.03258</td>\n",
       "      <td>1.0</td>\n",
       "      <td>1.462991e-44</td>\n",
       "      <td>8.691571e-42</td>\n",
       "    </tr>\n",
       "    <tr>\n",
       "      <th>2022-05-11</th>\n",
       "      <td>105.37</td>\n",
       "      <td>4.66</td>\n",
       "      <td>-0.01459</td>\n",
       "      <td>-0.01470</td>\n",
       "      <td>1.0</td>\n",
       "      <td>3.349401e-35</td>\n",
       "      <td>1.864322e-32</td>\n",
       "    </tr>\n",
       "    <tr>\n",
       "      <th>2022-05-12</th>\n",
       "      <td>106.93</td>\n",
       "      <td>4.67</td>\n",
       "      <td>-0.05422</td>\n",
       "      <td>-0.05574</td>\n",
       "      <td>1.0</td>\n",
       "      <td>2.794027e-39</td>\n",
       "      <td>1.601584e-36</td>\n",
       "    </tr>\n",
       "    <tr>\n",
       "      <th>2022-05-13</th>\n",
       "      <td>113.06</td>\n",
       "      <td>4.73</td>\n",
       "      <td>0.02031</td>\n",
       "      <td>0.02010</td>\n",
       "      <td>1.0</td>\n",
       "      <td>6.978391e-57</td>\n",
       "      <td>4.471912e-54</td>\n",
       "    </tr>\n",
       "  </tbody>\n",
       "</table>\n",
       "</div>"
      ],
      "text/plain": [
       "                St  ln(St)  %_Change  Log_Return  Delta Δ       Gamma Γ  \\\n",
       "Fecha                                                                     \n",
       "2022-05-09  108.79    4.69  -0.00064    -0.00064      1.0  2.296995e-44   \n",
       "2022-05-10  108.86    4.69   0.03312     0.03258      1.0  1.462991e-44   \n",
       "2022-05-11  105.37    4.66  -0.01459    -0.01470      1.0  3.349401e-35   \n",
       "2022-05-12  106.93    4.67  -0.05422    -0.05574      1.0  2.794027e-39   \n",
       "2022-05-13  113.06    4.73   0.02031     0.02010      1.0  6.978391e-57   \n",
       "\n",
       "                  Vega v  \n",
       "Fecha                     \n",
       "2022-05-09  1.362881e-41  \n",
       "2022-05-10  8.691571e-42  \n",
       "2022-05-11  1.864322e-32  \n",
       "2022-05-12  1.601584e-36  \n",
       "2022-05-13  4.471912e-54  "
      ]
     },
     "execution_count": 17,
     "metadata": {},
     "output_type": "execute_result"
    }
   ],
   "source": [
    "Historical_Data['Delta \\u0394']=Delta_Call\n",
    "Historical_Data['Gamma \\u0393']=Gamma_Call\n",
    "Historical_Data['Vega v']=Vega_Call\n",
    "Historical_Data.head()"
   ]
  },
  {
   "cell_type": "markdown",
   "id": "be9fd9a6",
   "metadata": {},
   "source": [
    "## Creando la cobertura con nuestros 3 esenarios\n",
    "1. Sin griega\n",
    "2. Con Delta $\\Delta$\n",
    "3. Con Delta Gamma $\\Gamma$\n",
    "4. Con Delta Gamma Vega **V**"
   ]
  }
 ],
 "metadata": {
  "kernelspec": {
   "display_name": "Python 3",
   "language": "python",
   "name": "python3"
  },
  "language_info": {
   "codemirror_mode": {
    "name": "ipython",
    "version": 3
   },
   "file_extension": ".py",
   "mimetype": "text/x-python",
   "name": "python",
   "nbconvert_exporter": "python",
   "pygments_lexer": "ipython3",
   "version": "3.8.8"
  }
 },
 "nbformat": 4,
 "nbformat_minor": 5
}
